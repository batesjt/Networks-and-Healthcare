{
 "cells": [
  {
   "cell_type": "code",
   "execution_count": 4,
   "metadata": {},
   "outputs": [],
   "source": [
    "import pickle\n",
    "import numpy as np\n",
    "import sys  \n",
    "import pandas as pd\n",
    "import collections\n",
    "import comorb_hgraph_generator as chg"
   ]
  },
  {
   "cell_type": "code",
   "execution_count": 42,
   "metadata": {},
   "outputs": [],
   "source": [
    "graphFile= open('icd9OnlyDict.pickle', 'rb')\n",
    "graphDict = pickle.load(graphFile)\n",
    "graphFile= open('nodeDegreesDict.pickle', 'rb')\n",
    "nodeDegreesDict = pickle.load(graphFile)\n",
    "hyperedgeDegrees = list({key:len(value) for key,value in graphDict.items()}.values())\n",
    "nodeDegrees = list(nodeDegreesDict.values())"
   ]
  },
  {
   "cell_type": "code",
   "execution_count": 54,
   "metadata": {
    "scrolled": true
   },
   "outputs": [
    {
     "name": "stdout",
     "output_type": "stream",
     "text": [
      "generating random\n",
      "generating random\n",
      "generating random\n",
      "generating random\n",
      "generating random\n"
     ]
    }
   ],
   "source": [
    "np.random.seed(0)\n",
    "randomGraphDict1 = chg.random_graph_gen(nodeDegrees, hyperedgeDegrees)\n",
    "randomGraphDict2 = chg.random_graph_gen(nodeDegrees, hyperedgeDegrees)\n",
    "randomGraphDict3 = chg.random_graph_gen(nodeDegrees, hyperedgeDegrees)\n",
    "randomGraphDict4 = chg.random_graph_gen(nodeDegrees, hyperedgeDegrees)\n",
    "randomGraphDict5 = chg.random_graph_gen(nodeDegrees, hyperedgeDegrees)"
   ]
  },
  {
   "cell_type": "code",
   "execution_count": 55,
   "metadata": {},
   "outputs": [
    {
     "name": "stdout",
     "output_type": "stream",
     "text": [
      "[(0, [4268, 495, 765, 2623, 5746, 1917, 2722, 3840, 1963]), (1, [5362, 1820, 1952, 2627, 2177, 899]), (2, [914, 371, 6096, 6115, 633, 1868, 1336, 1873, 2857]), (3, [3815, 2380, 1992, 2985]), (4, [4649, 3575, 5172, 5138, 5979, 1085, 2854, 5614, 1938, 5339, 224, 3602, 1895])]\n",
      "[(0, [3815, 6128, 1059, 5600, 1183, 3827, 1233, 2528, 822, 914, 99, 964, 2258]), (1, [5348, 1871, 1253, 2854, 2815, 491, 769, 1816, 6095, 1967, 68]), (2, [1040, 2867, 3892, 1469, 6205, 1832, 2370, 4696, 496, 5599]), (3, [3808, 5627, 496, 1813, 5339]), (4, [5979, 1074, 5955, 1004, 99, 4599, 3681, 1871])]\n",
      "[(0, [1292, 2854, 1961, 483, 2861, 918, 5361, 1952, 3488, 1008, 1820, 6109]), (1, [6109, 1820, 1963, 1954]), (2, [1952, 3385, 223, 1812]), (3, [442, 1952, 2346, 915, 2655, 1820, 1934, 2380]), (4, [2374, 4822, 1860, 3994, 1875, 2012, 1820, 1008, 5364, 3379])]\n",
      "[(0, [944, 5364, 1002, 1919, 1003, 2839, 899, 1875, 1820]), (1, [171, 880, 2380, 2470, 1039, 5281]), (2, [2727, 1183, 2332, 2610, 5348, 3939]), (3, [1410, 6128, 2784, 1472]), (4, [915, 6109, 3887, 3815, 2685, 2391])]\n",
      "[(0, [1430, 983, 5450, 1189, 2854, 1952, 4531, 2405, 2354, 2698, 2305]), (1, [2822, 1875, 748, 1153, 1820, 1918, 994]), (2, [1963, 2061, 5717, 1875, 5337, 4172]), (3, [2198, 2319, 2346, 3925, 1017, 789, 2896, 1965]), (4, [4631, 5277, 3602, 2918, 2348, 5853, 2752, 324, 2470])]\n",
      "[9, 9, 8, 6, 9]\n"
     ]
    }
   ],
   "source": [
    "print(list(sorted(randomGraphDict1.items()))[0:5])\n",
    "print(list(sorted(randomGraphDict2.items()))[0:5])\n",
    "print(list(sorted(randomGraphDict3.items()))[0:5])\n",
    "print(list(sorted(randomGraphDict4.items()))[0:5])\n",
    "print(list(sorted(randomGraphDict5.items()))[0:5])\n",
    "print(list(hyperedgeDegrees)[0:5])"
   ]
  },
  {
   "cell_type": "code",
   "execution_count": 57,
   "metadata": {},
   "outputs": [
    {
     "name": "stdout",
     "output_type": "stream",
     "text": [
      "saving file as: rand_icd9graph1.txt\n",
      "File saved!\n",
      "saving file as: rand_icd9graph2.txt\n",
      "File saved!\n",
      "saving file as: rand_icd9graph3.txt\n",
      "File saved!\n",
      "saving file as: rand_icd9graph4.txt\n",
      "File saved!\n",
      "saving file as: rand_icd9graph5.txt\n",
      "File saved!\n"
     ]
    }
   ],
   "source": [
    "chg.saveDictAsTxt(\"rand_icd9graph1.txt\", randomGraphDict1)\n",
    "chg.saveDictAsTxt(\"rand_icd9graph2.txt\", randomGraphDict2)\n",
    "chg.saveDictAsTxt(\"rand_icd9graph3.txt\", randomGraphDict3)\n",
    "chg.saveDictAsTxt(\"rand_icd9graph4.txt\", randomGraphDict4)\n",
    "chg.saveDictAsTxt(\"rand_icd9graph5.txt\", randomGraphDict5)"
   ]
  },
  {
   "cell_type": "code",
   "execution_count": 62,
   "metadata": {},
   "outputs": [],
   "source": [
    "from sklearn.linear_model import LogisticRegression\n",
    "from sklearn.model_selection import train_test_split"
   ]
  },
  {
   "cell_type": "code",
   "execution_count": 65,
   "metadata": {},
   "outputs": [],
   "source": [
    "graphFile= open('features_(icd9Onlyfinal5000)Longjob.pickle', 'rb')\n",
    "graphDict = pickle.load(graphFile)\n",
    "graphFile.close()"
   ]
  },
  {
   "cell_type": "code",
   "execution_count": 66,
   "metadata": {},
   "outputs": [
    {
     "name": "stdout",
     "output_type": "stream",
     "text": [
      "(10000, 30)\n",
      "[      0       0       0  610187       0       0       0       0     351\n",
      " 1186163       0       0       1     282     677  766172       0       1\n",
      "     323  157470       0       0       0       0       0 2942209       0\n",
      "       1    1195 1218873]\n"
     ]
    },
    {
     "data": {
      "text/plain": [
       "0.9481818181818182"
      ]
     },
     "execution_count": 66,
     "metadata": {},
     "output_type": "execute_result"
    }
   ],
   "source": [
    "type(graphDict)\n",
    "graphArray = np.array(graphDict)\n",
    "print(graphArray.shape)\n",
    "X = np.delete(graphArray, [0,1,4,6], axis=1)\n",
    "print(graphArray[0])\n",
    "y = np.ones(10000)\n",
    "y[5000:] = 0\n",
    "y = y.reshape((10000,))\n",
    "X_train, X_test, y_train, y_test = train_test_split(X, y, test_size=0.33, random_state=42)\n",
    "logisticRegr = LogisticRegression()\n",
    "LRmodel = logisticRegr.fit(X_train, y_train)\n",
    "LRmodel.score(X_test, y_test)\n",
    "#with open('LRmodel.pickle', 'wb') as output:\n",
    " # pickle.dump(LRmodel, output)"
   ]
  },
  {
   "cell_type": "code",
   "execution_count": 106,
   "metadata": {},
   "outputs": [],
   "source": [
    "import os\n",
    "dataLocation = os.path.join(\"Outputs\", \"rand_motifs.pickle\")\n",
    "graphFile= open(dataLocation, 'rb')\n",
    "randomGraphMotifs1 = pickle.load(graphFile)\n",
    "\n",
    "randomGraphMotifs = np.mean(randomGraphMotifs1, axis=0)"
   ]
  },
  {
   "cell_type": "code",
   "execution_count": 107,
   "metadata": {},
   "outputs": [
    {
     "data": {
      "text/plain": [
       "array([1.34933e+08, 2.13185e+11, 1.06902e+06, 1.42855e+08, 2.28345e+09,\n",
       "       5.41409e+11, 0.00000e+00, 3.00452e+06, 1.44262e+07, 1.89651e+09,\n",
       "       1.10987e+09, 4.40919e+11, 0.00000e+00, 2.68944e+06, 8.16509e+08,\n",
       "       1.21598e+11, 0.00000e+00, 8.43966e+04, 7.07244e+06, 2.00667e+09,\n",
       "       2.42257e+09, 1.98973e+12, 0.00000e+00, 3.60092e+06, 1.61582e+09,\n",
       "       4.32390e+11])"
      ]
     },
     "execution_count": 107,
     "metadata": {},
     "output_type": "execute_result"
    }
   ],
   "source": [
    "dataLocation = os.path.join(\"Outputs\", \"icd9graph_motifs.pickle\")\n",
    "graphFile= open(dataLocation, 'rb')\n",
    "icd9GraphMotifs = pickle.load(graphFile)\n",
    "icd9GraphMotifs"
   ]
  },
  {
   "cell_type": "code",
   "execution_count": 116,
   "metadata": {},
   "outputs": [
    {
     "name": "stdout",
     "output_type": "stream",
     "text": [
      "[-0.89199334  0.1287591  -0.3530778  -0.8822878   0.49583313  0.24753273\n",
      "  1.          0.65824103  0.96978396  0.39372414  0.8358667   0.29846966\n",
      "  1.          0.97700393  0.74073917  0.29994294  1.         -0.9948744\n",
      "  0.025499   -0.81245756  0.07425562  0.00839257  1.          0.35572943\n",
      " -0.05924229  0.05209064]\n"
     ]
    }
   ],
   "source": [
    "relativeCount = (icd9GraphMotifs - randomGraphMotifs) / (icd9GraphMotifs + randomGraphMotifs + 1)\n",
    "relativeCount[6] = 1\n",
    "relativeCount[12] = 1\n",
    "relativeCount[16] = 1\n",
    "relativeCount[22] = 1\n",
    "print(relativeCount)"
   ]
  },
  {
   "cell_type": "code",
   "execution_count": 118,
   "metadata": {},
   "outputs": [
    {
     "name": "stdout",
     "output_type": "stream",
     "text": [
      "[-0.07610185  0.01098529 -0.0301234  -0.0752738   0.0423028   0.02111865\n",
      "  0.08531661  0.05615889  0.08273868  0.03359121  0.07131331  0.02546442\n",
      "  0.08531661  0.08335466  0.06319735  0.02559011  0.08531661 -0.08487931\n",
      "  0.00217549 -0.06931613  0.00633524  0.00071603  0.08531661  0.03034963\n",
      " -0.00505435  0.0044442 ]\n"
     ]
    }
   ],
   "source": [
    "CP = relativeCount / np.sum(relativeCount**2)\n",
    "print(CP)"
   ]
  }
 ],
 "metadata": {
  "kernelspec": {
   "display_name": "Python 3",
   "language": "python",
   "name": "python3"
  },
  "language_info": {
   "codemirror_mode": {
    "name": "ipython",
    "version": 3
   },
   "file_extension": ".py",
   "mimetype": "text/x-python",
   "name": "python",
   "nbconvert_exporter": "python",
   "pygments_lexer": "ipython3",
   "version": "3.7.9"
  }
 },
 "nbformat": 4,
 "nbformat_minor": 4
}
